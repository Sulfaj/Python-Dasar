{
  "nbformat": 4,
  "nbformat_minor": 0,
  "metadata": {
    "colab": {
      "provenance": [],
      "collapsed_sections": []
    },
    "kernelspec": {
      "name": "python3",
      "display_name": "Python 3"
    },
    "language_info": {
      "name": "python"
    }
  },
  "cells": [
    {
      "cell_type": "code",
      "execution_count": null,
      "metadata": {
        "colab": {
          "base_uri": "https://localhost:8080/"
        },
        "id": "o0IV2jWaE2Lo",
        "outputId": "e57ec695-aeb5-4b8f-9cbb-e76a39c57497"
      },
      "outputs": [
        {
          "output_type": "stream",
          "name": "stdout",
          "text": [
            "hello\n"
          ]
        }
      ],
      "source": [
        "print(\"hello\")"
      ]
    },
    {
      "cell_type": "code",
      "source": [
        "#Fungsi print(\"\") untuk mencetak sesuatu\n",
        "print(\"Hello, World\")"
      ],
      "metadata": {
        "colab": {
          "base_uri": "https://localhost:8080/"
        },
        "id": "VBf2OWsEFbft",
        "outputId": "ed2f867d-8aac-4dbe-d3a9-c6f0dffa8a7e"
      },
      "execution_count": null,
      "outputs": [
        {
          "output_type": "stream",
          "name": "stdout",
          "text": [
            "Hello, World\n"
          ]
        }
      ]
    },
    {
      "cell_type": "code",
      "source": [
        "\"\"\"komemntar berguna untuk memberikan penjelasan mengenai fungsi dari scrip yang telah dibuat\"\"\"\n",
        "print(\"My name is Sufajeri\")"
      ],
      "metadata": {
        "colab": {
          "base_uri": "https://localhost:8080/"
        },
        "id": "mQTajIwiG-Gb",
        "outputId": "3422f077-1b60-480f-c232-15f3ed6513e2"
      },
      "execution_count": null,
      "outputs": [
        {
          "output_type": "stream",
          "name": "stdout",
          "text": [
            "My name is Sufajeri\n"
          ]
        }
      ]
    },
    {
      "cell_type": "code",
      "source": [
        "#Mengenal variabel, Variabel adalah wadah untuk menyimpan nilai data\n",
        "x=\"Sul\"\n",
        "y=\"Fajri\"\n",
        "print(x)\n",
        "print(y)"
      ],
      "metadata": {
        "colab": {
          "base_uri": "https://localhost:8080/"
        },
        "id": "06BqxKmrIUBE",
        "outputId": "f83cd068-8817-4b70-ea40-997a1d6b987b"
      },
      "execution_count": null,
      "outputs": [
        {
          "output_type": "stream",
          "name": "stdout",
          "text": [
            "Sul\n",
            "Fajri\n"
          ]
        }
      ]
    },
    {
      "cell_type": "code",
      "source": [
        "\"\"\"Sebuah variabel dapat memiliki nama yang pendek (seperti x dan y) atau\n",
        "nama yang lebih deskriptif (seperti nama, kodeMatakuliah, total_siswa).\"\"\"\n",
        "namaprodi=\"Bisdig\"\n",
        "nama_prodi=\"Bisdig\"\n",
        "print(namaprodi)\n",
        "print(nama_prodi)"
      ],
      "metadata": {
        "colab": {
          "base_uri": "https://localhost:8080/"
        },
        "id": "-m2Ene_2I5P7",
        "outputId": "0a512c90-71ba-43fc-da74-cb615f525427"
      },
      "execution_count": null,
      "outputs": [
        {
          "output_type": "stream",
          "name": "stdout",
          "text": [
            "Bisdig\n",
            "Bisdig\n"
          ]
        }
      ]
    },
    {
      "cell_type": "code",
      "source": [
        "\"\"\"Mengganti nilai variabel, Variabel tidak perlu dideklarasikan dengan tipe tertentu,\n",
        "dan bahkan dapat diubah nilai dan tipenya setelah ditetapkan.\"\"\"\n",
        "# x bernilai sul\n",
        "x= \"sul\"\n",
        "\n",
        "# x diinisialisasikan ulang menjadi fajri\n",
        "x= \"fajri\"\n",
        "print(x)"
      ],
      "metadata": {
        "colab": {
          "base_uri": "https://localhost:8080/"
        },
        "id": "7iUdkVXtJ-Pc",
        "outputId": "15068040-130d-4ecf-df47-b9b9311af714"
      },
      "execution_count": null,
      "outputs": [
        {
          "output_type": "stream",
          "name": "stdout",
          "text": [
            "fajri\n"
          ]
        }
      ]
    },
    {
      "cell_type": "code",
      "source": [
        "#mengecek tipe data jenis apa pun dengan menggunakan fungsi type() :\n",
        "x= \"Himpunan Bisnis Digital\"\n",
        "print(type(x))"
      ],
      "metadata": {
        "colab": {
          "base_uri": "https://localhost:8080/"
        },
        "id": "gcHA8UnEJ1ju",
        "outputId": "d5fc91cf-2cb6-4625-cc8f-71ca081b7124"
      },
      "execution_count": null,
      "outputs": [
        {
          "output_type": "stream",
          "name": "stdout",
          "text": [
            "<class 'str'>\n"
          ]
        }
      ]
    },
    {
      "cell_type": "code",
      "source": [
        "#String adalah tipe data yang digunakan untuk menyimpan barisan karakter.\n",
        "\n",
        "print(\"Hello\")\n",
        "print('Hello')\n",
        "\n",
        "a= \"\"\"ini budi,\n",
        "ini bapak budi,\n",
        "ini mama budi.\"\"\"\n",
        "\n",
        "print(a)"
      ],
      "metadata": {
        "colab": {
          "base_uri": "https://localhost:8080/"
        },
        "id": "a1Dk4-FsLJRA",
        "outputId": "5f74c36a-6c29-49db-c63f-dbcfc9880be0"
      },
      "execution_count": null,
      "outputs": [
        {
          "output_type": "stream",
          "name": "stdout",
          "text": [
            "Hello\n",
            "Hello\n",
            "ini budi,\n",
            "ini bapak budi,\n",
            "ini mama budi.\n"
          ]
        }
      ]
    },
    {
      "cell_type": "code",
      "source": [
        "\"\"\"String dapat ditambahkan atau digabungkan menggunakan proses yang\n",
        "disebut dengan concate\"\"\"\n",
        "\n",
        "x=\"Sul\"\n",
        "y=\"Fajri\"\n",
        "print(x + y)\n",
        "\n",
        "print(x + ' ' +y)"
      ],
      "metadata": {
        "colab": {
          "base_uri": "https://localhost:8080/"
        },
        "id": "aBn-aWGrMZ_V",
        "outputId": "0a52502c-e58d-44a2-9939-61b9ad893bd9"
      },
      "execution_count": null,
      "outputs": [
        {
          "output_type": "stream",
          "name": "stdout",
          "text": [
            "SulFajri\n",
            "Sul Fajri\n"
          ]
        }
      ]
    },
    {
      "cell_type": "code",
      "source": [
        "\"\"\"Dengan slicing akan membuat rentang karakter sesuai dengan keinginan kita\n",
        "Dengan menentukan indeks awal dan indeks akhir, dipisahkan oleh titik dua,\n",
        "untuk mengembalikan bagian dari string.\"\"\"\n",
        "\n",
        "b = \"Hello, World\"\n",
        "print(b[2:5])\n",
        "print(b[7:])"
      ],
      "metadata": {
        "colab": {
          "base_uri": "https://localhost:8080/"
        },
        "id": "sK4ThZP6M0Ul",
        "outputId": "d4fe56de-e993-421d-d29b-03c8dc4882bd"
      },
      "execution_count": null,
      "outputs": [
        {
          "output_type": "stream",
          "name": "stdout",
          "text": [
            "llo\n",
            "World\n"
          ]
        }
      ]
    },
    {
      "cell_type": "code",
      "source": [
        "#Escape Characters\n",
        "#Menyisipkan karakter yang ilegal dalam string, gunakan Escape Character.\n",
        "\n",
        "#format yg salah dalam penggunaan kutip di string\n",
        "#txt = \"Himpunan \"Mahasiswa\" Bisnis digital\"\n",
        "\n",
        "#format yang benar menggunakan kutip dengan escape characters\n",
        "txt = \"Himpunan \\\"Mahasiswa\\\" Bisnis Digital\"\n",
        "\n",
        "print(txt)"
      ],
      "metadata": {
        "colab": {
          "base_uri": "https://localhost:8080/"
        },
        "id": "NlzTm6UVNkJ9",
        "outputId": "36d64a2d-e58c-43d5-c99b-1ee27e17e4b6"
      },
      "execution_count": null,
      "outputs": [
        {
          "output_type": "stream",
          "name": "stdout",
          "text": [
            "Himpunan \"Mahasiswa\" Bisnis Digital\n"
          ]
        }
      ]
    },
    {
      "cell_type": "code",
      "source": [
        "\"\"\"String Methods\n",
        "Python memiliki methods bawaan yang dapat digunakan pada string.\"\"\"\n",
        "\n",
        "txt = \"Hello World!\"\n",
        "#upper() akan mengubah huruf menjadi huruf kapital semua\n",
        "\n",
        "print(txt.upper())"
      ],
      "metadata": {
        "colab": {
          "base_uri": "https://localhost:8080/"
        },
        "id": "x63MNJJ4O2uU",
        "outputId": "3821f3c7-cbfc-4f8b-bffe-4dd9bcc663ee"
      },
      "execution_count": null,
      "outputs": [
        {
          "output_type": "stream",
          "name": "stdout",
          "text": [
            "HELLO WORLD!\n"
          ]
        }
      ]
    },
    {
      "cell_type": "code",
      "source": [
        "\"\"\"Int, atau bilangan bulat adalah bilangan bulat, positif atau negatif,\n",
        "tanpa desimal, dengan panjang tak terbatas.\"\"\"\n",
        "\n",
        "x = 1\n",
        "y = 123456789\n",
        "z = -12345\n",
        "\n",
        "print(x)\n",
        "print(y)\n",
        "print(z)"
      ],
      "metadata": {
        "colab": {
          "base_uri": "https://localhost:8080/"
        },
        "id": "pcCA3bjvP61i",
        "outputId": "9ebc936a-519c-449f-82cf-d9880d6bfb0e"
      },
      "execution_count": null,
      "outputs": [
        {
          "output_type": "stream",
          "name": "stdout",
          "text": [
            "1\n",
            "123456789\n",
            "-12345\n"
          ]
        }
      ]
    },
    {
      "cell_type": "code",
      "source": [
        "\"\"\"Integer methods\n",
        "Python memiliki modul yang disebut random yang dapat\n",
        "digunakan untuk membuat angka acak\"\"\"\n",
        "\n",
        "import random\n",
        "\n",
        "print(random.randrange(1, 10))"
      ],
      "metadata": {
        "colab": {
          "base_uri": "https://localhost:8080/"
        },
        "id": "4OtAZ789QDKd",
        "outputId": "2cf6b9ef-12cd-431d-f2b8-0afb2da4f3df"
      },
      "execution_count": null,
      "outputs": [
        {
          "output_type": "stream",
          "name": "stdout",
          "text": [
            "8\n"
          ]
        }
      ]
    },
    {
      "cell_type": "code",
      "source": [
        "\"\"\"Python Booleans\n",
        "Boolean mewakili salah satu dari dua nilai: True atau False.\"\"\"\n",
        "\n",
        "print(10 > 9)  #hasil akan true\n",
        "print(10 == 9) #hasil akan false\n",
        "print(10 < 9)  #hasil akan false\n"
      ],
      "metadata": {
        "colab": {
          "base_uri": "https://localhost:8080/"
        },
        "id": "Lb9WL8DxQ7rX",
        "outputId": "4dba7216-bcd9-4918-b0dd-7780e778eea8"
      },
      "execution_count": null,
      "outputs": [
        {
          "output_type": "stream",
          "name": "stdout",
          "text": [
            "True\n",
            "False\n",
            "False\n"
          ]
        }
      ]
    },
    {
      "cell_type": "code",
      "source": [
        "\"\"\"Python Operators\n",
        "Operator digunakan untuk melakukan operasi pada variabel atau sebuah nilai.\"\"\"\n",
        "#Python memiliki beberapa macam operator sebagai berikut\n",
        "\n",
        "#Arithmetic Operators\n",
        "\n",
        "x = 5\n",
        "y = 2\n",
        "print(x + y) #penjumlahan\n",
        "print(x - y) #pengurangan\n",
        "print(x * y) #perkalian\n",
        "print(x / y) #pembagian\n",
        "\n",
        "print(x % y) #modulus\n",
        "print(x ** y) #exponentiation\n",
        "print(x // y) #floor division"
      ],
      "metadata": {
        "colab": {
          "base_uri": "https://localhost:8080/"
        },
        "id": "QT1JLvIBRccr",
        "outputId": "d8cb5c7d-70cc-4cc2-aede-3add9adf7032"
      },
      "execution_count": null,
      "outputs": [
        {
          "output_type": "stream",
          "name": "stdout",
          "text": [
            "7\n",
            "3\n",
            "10\n",
            "2.5\n",
            "1\n",
            "25\n",
            "2\n"
          ]
        }
      ]
    },
    {
      "cell_type": "code",
      "source": [
        "#Comparison Operators\n",
        "\n",
        "x = 5\n",
        "y = 2\n",
        "print(x == y) #sama dengan\n",
        "print(x != y) #tidak sama\n",
        "print(x > y) #lebih dari\n",
        "print(x < y) #kurang dari\n",
        "print(x >= y) #lebih dari/sama dengan\n",
        "print(x <= y) #kurang dari/sama dengan"
      ],
      "metadata": {
        "colab": {
          "base_uri": "https://localhost:8080/"
        },
        "id": "v77wpn3CSn9P",
        "outputId": "f2c52190-6101-4301-e158-8d6056ebd79c"
      },
      "execution_count": null,
      "outputs": [
        {
          "output_type": "stream",
          "name": "stdout",
          "text": [
            "False\n",
            "True\n",
            "True\n",
            "False\n",
            "True\n",
            "False\n"
          ]
        }
      ]
    },
    {
      "cell_type": "code",
      "source": [
        "#Logical Operators\n",
        "\n",
        "x = 1\n",
        "print(x < 5 and x < 10)     #hasilnya true jika kedua nilai bernilai true\n",
        "print(x < 5 or x < 10)      #hasilnya true jika salah satu nilai bernilai true\n",
        "print(not(x < 5 or x < 10)) #membalikkan hasilnya\n",
        "print(not(x > 5 and x > 10))#membalikkan hasilnya"
      ],
      "metadata": {
        "colab": {
          "base_uri": "https://localhost:8080/"
        },
        "id": "NGhvqNXGSzt5",
        "outputId": "e558d460-c3da-4a51-98a6-92b13c660cc7"
      },
      "execution_count": null,
      "outputs": [
        {
          "output_type": "stream",
          "name": "stdout",
          "text": [
            "True\n",
            "True\n",
            "False\n",
            "True\n"
          ]
        }
      ]
    },
    {
      "cell_type": "code",
      "source": [
        "#Python List\n",
        "\n",
        "thisislist = ['apple', 'banana', 'cherry']\n",
        "print(thisislist)"
      ],
      "metadata": {
        "colab": {
          "base_uri": "https://localhost:8080/"
        },
        "id": "0zFbA0v4X5lW",
        "outputId": "024eca6e-8fbe-40ed-fc88-4487ebbbb88b"
      },
      "execution_count": null,
      "outputs": [
        {
          "output_type": "stream",
          "name": "stdout",
          "text": [
            "['apple', 'banana', 'cherry']\n"
          ]
        }
      ]
    },
    {
      "cell_type": "code",
      "source": [
        "#List Items\n",
        "\n",
        "thisislist = ['buku', 21, True]\n",
        "print(thisislist)\n",
        "print(type(thisislist))"
      ],
      "metadata": {
        "colab": {
          "base_uri": "https://localhost:8080/"
        },
        "id": "PyBdu58pS-ct",
        "outputId": "158850f6-de86-4e62-eff5-e98f7609c19b"
      },
      "execution_count": null,
      "outputs": [
        {
          "output_type": "stream",
          "name": "stdout",
          "text": [
            "['buku', 21, True]\n",
            "<class 'list'>\n"
          ]
        }
      ]
    },
    {
      "cell_type": "code",
      "source": [
        "#Mengambil nilai di dalam List\n",
        "\n",
        "buah = ['apel', 'anggur', 'mangga', 'jeruk']\n",
        "# Kita mengambil nilai yang indexnya adalah 2\n",
        "print(buah[2])"
      ],
      "metadata": {
        "colab": {
          "base_uri": "https://localhost:8080/"
        },
        "id": "qN9SoxvYYV_M",
        "outputId": "59738f0e-6da4-477a-8c12-abd7434d811c"
      },
      "execution_count": null,
      "outputs": [
        {
          "output_type": "stream",
          "name": "stdout",
          "text": [
            "mangga\n"
          ]
        }
      ]
    },
    {
      "cell_type": "code",
      "source": [
        "#Mengganti nilai di dalam list\n",
        "\n",
        "buah =['oranges', 'apel', 'mangga', 'durian']\n",
        "\n",
        "# mengubah nilai pada index ke-2\n",
        "buah[2] = 'kelapa'\n",
        "print(buah)"
      ],
      "metadata": {
        "colab": {
          "base_uri": "https://localhost:8080/"
        },
        "id": "n7CvcewIYvMt",
        "outputId": "8814bcc1-57b7-4062-fe32-3959426ae88c"
      },
      "execution_count": null,
      "outputs": [
        {
          "output_type": "stream",
          "name": "stdout",
          "text": [
            "['oranges', 'apel', 'kelapa', 'durian']\n"
          ]
        }
      ]
    },
    {
      "cell_type": "code",
      "source": [
        "#List methods\n",
        "\n",
        "buah = ['jeruk', 'apel', 'mangga', 'durian']\n",
        "\n",
        "# menambah manggis dengan method append\n",
        "buah.append('manggis')\n",
        "print(buah)"
      ],
      "metadata": {
        "colab": {
          "base_uri": "https://localhost:8080/"
        },
        "id": "Kx_zYvLHZSOH",
        "outputId": "6f4a74ae-55c6-4e91-8b9b-4bd19d49d671"
      },
      "execution_count": null,
      "outputs": [
        {
          "output_type": "stream",
          "name": "stdout",
          "text": [
            "['jeruk', 'apel', 'mangga', 'durian', 'manggis']\n"
          ]
        }
      ]
    },
    {
      "cell_type": "code",
      "source": [
        "\"\"\"Python Dictionary\n",
        "Dictionary digunakan untuk menyimpan nilai data yang pasangan \"kunci\" : \"nilai\"\"\"\n",
        "\n",
        "bisdig = {\n",
        "    'nama' : 'Himpunan Mahasiswa',\n",
        "    'tahun dibuat' : 2022,\n",
        "    'fakultas' : 'Ekonomi dan Bisnis',\n",
        "    'daftar kegiatan' : ['Digitalk, DigiClass']\n",
        "}\n",
        "print(bisdig)"
      ],
      "metadata": {
        "colab": {
          "base_uri": "https://localhost:8080/"
        },
        "id": "s9bIm99Xbqr-",
        "outputId": "393f32b1-b2bb-455d-f8ed-19ce6a68e191"
      },
      "execution_count": null,
      "outputs": [
        {
          "output_type": "stream",
          "name": "stdout",
          "text": [
            "{'nama': 'Himpunan Mahasiswa', 'tahun dibuat': 2022, 'fakultas': 'Ekonomi dan Bisnis', 'daftar kegiatan': ['Digitalk, DigiClass']}\n"
          ]
        }
      ]
    },
    {
      "cell_type": "code",
      "source": [
        "#Mengambil nilai dari Dictionary\n",
        "\n",
        "mahasiswa = {\n",
        "    'nama' : 'icsan',\n",
        "    'umur' : 20,\n",
        "    'hobi' : ['main game', 'baca buku']\n",
        "}\n",
        "print(mahasiswa['umur'])"
      ],
      "metadata": {
        "colab": {
          "base_uri": "https://localhost:8080/"
        },
        "id": "k9LQn-mScRxI",
        "outputId": "e2d595a8-c760-416a-bbb6-5cf3d9c279a9"
      },
      "execution_count": null,
      "outputs": [
        {
          "output_type": "stream",
          "name": "stdout",
          "text": [
            "20\n"
          ]
        }
      ]
    },
    {
      "cell_type": "code",
      "source": [
        "#Mengubah nilai dari Dictionary\n",
        "\n",
        "mahasiswa = {\n",
        "    'nama' : 'icsan',\n",
        "    'umur' : 20,\n",
        "    'hobi' : ['main game', 'baca buku']\n",
        "}\n",
        "mahasiswa['umur'] = 21\n",
        "print(mahasiswa)"
      ],
      "metadata": {
        "colab": {
          "base_uri": "https://localhost:8080/"
        },
        "id": "53zlRUO4dEiJ",
        "outputId": "3e5d9980-74d5-49d7-a2fb-64e26f5cb08e"
      },
      "execution_count": null,
      "outputs": [
        {
          "output_type": "stream",
          "name": "stdout",
          "text": [
            "{'nama': 'icsan', 'umur': 21, 'hobi': ['main game', 'baca buku']}\n"
          ]
        }
      ]
    },
    {
      "cell_type": "code",
      "source": [
        "#Dictionary Item\n",
        "\n",
        "mahasiswa = [{\n",
        "    'nama' : 'Icsan',\n",
        "    'hobi' : 20,\n",
        "    'umur' : ['main game', 'baca buku']\n",
        "},\n",
        "{\n",
        "    'nama' : 'Zulham',\n",
        "    'hobi' : 20,\n",
        "    'umur' : ['main game', 'baca buku']\n",
        "}]\n",
        "print(mahasiswa)"
      ],
      "metadata": {
        "colab": {
          "base_uri": "https://localhost:8080/"
        },
        "id": "wrivSsFCdp92",
        "outputId": "5456c894-a3c0-44f8-c134-fd3680982caf"
      },
      "execution_count": null,
      "outputs": [
        {
          "output_type": "stream",
          "name": "stdout",
          "text": [
            "[{'nama': 'Icsan', 'hobi': 20, 'umur': ['main game', 'baca buku']}, {'nama': 'Zulham', 'hobi': 20, 'umur': ['main game', 'baca buku']}]\n"
          ]
        }
      ]
    },
    {
      "cell_type": "code",
      "source": [
        "#Dictionary methods\n",
        "\n",
        "mobil = {\n",
        "    'merek' : 'Ford',\n",
        "    'model' : 'Mustang',\n",
        "    'tahun' : 1964\n",
        "}\n",
        "mobil.pop('model') #menghapus key dan value yang di kehendaki\n",
        "print(mobil)"
      ],
      "metadata": {
        "colab": {
          "base_uri": "https://localhost:8080/"
        },
        "id": "fKtpmGdGedQs",
        "outputId": "ad262efb-6b77-48db-d82b-8e92eb4e4a0e"
      },
      "execution_count": null,
      "outputs": [
        {
          "output_type": "stream",
          "name": "stdout",
          "text": [
            "{'merek': 'Ford', 'tahun': 1964}\n"
          ]
        }
      ]
    },
    {
      "cell_type": "code",
      "source": [
        "#Python If else\n",
        "\n",
        "a = 33\n",
        "b = 200\n",
        "if b > a:\n",
        "  print('b lebih besar dari a')"
      ],
      "metadata": {
        "colab": {
          "base_uri": "https://localhost:8080/"
        },
        "id": "Oz27CgZde1nW",
        "outputId": "cfd37df4-836a-42f7-b17c-70fc05254fce"
      },
      "execution_count": null,
      "outputs": [
        {
          "output_type": "stream",
          "name": "stdout",
          "text": [
            "b lebih besar dari a\n"
          ]
        }
      ]
    },
    {
      "cell_type": "code",
      "source": [
        "#Python Elif\n",
        "\n",
        "a = 33\n",
        "b = 33\n",
        "if b > a:\n",
        "  print('b lebih besar dari a')\n",
        "elif a == b:\n",
        "  print('a sama dengan b')"
      ],
      "metadata": {
        "colab": {
          "base_uri": "https://localhost:8080/"
        },
        "id": "Hb6NPmh5fR6U",
        "outputId": "6787a9c7-82b5-4f25-928e-32ad61263181"
      },
      "execution_count": null,
      "outputs": [
        {
          "output_type": "stream",
          "name": "stdout",
          "text": [
            "a sama dengan b\n"
          ]
        }
      ]
    },
    {
      "cell_type": "code",
      "source": [
        "#Python Else\n",
        "#Else akan aktif jika statement sebelumnya tidak menghasilkan nilai True\n",
        "\n",
        "a = 200\n",
        "b = 33\n",
        "if b > a:\n",
        "  print('b lebih besar dari a')\n",
        "elif a == b:\n",
        "  print('a sama dengan b')\n",
        "else:\n",
        "  print('a lebih besar dari b')"
      ],
      "metadata": {
        "colab": {
          "base_uri": "https://localhost:8080/"
        },
        "id": "9UcMNZT4fiWf",
        "outputId": "92928849-b74e-4862-d414-a99d815af358"
      },
      "execution_count": null,
      "outputs": [
        {
          "output_type": "stream",
          "name": "stdout",
          "text": [
            "a lebih besar dari b\n"
          ]
        }
      ]
    },
    {
      "cell_type": "code",
      "source": [
        "#Python While Loop\n",
        "#Dengan perulangan while kita dapat mengeksekusi satu set pernyataan selama kondisinya benar.\n",
        "\n",
        "i = 1\n",
        "while i < 6:\n",
        "  print(i)\n",
        "  i += 1"
      ],
      "metadata": {
        "colab": {
          "base_uri": "https://localhost:8080/"
        },
        "id": "4RYpucymgJ-K",
        "outputId": "de2a5895-e950-409f-c592-0ebd7b95f7e4"
      },
      "execution_count": null,
      "outputs": [
        {
          "output_type": "stream",
          "name": "stdout",
          "text": [
            "1\n",
            "2\n",
            "3\n",
            "4\n",
            "5\n"
          ]
        }
      ]
    },
    {
      "cell_type": "code",
      "source": [
        "#While Else\n",
        "#Dengan statement else pada While kita akan dijalankan jika kondisi while tidak lagi True\n",
        "\n",
        "i = 1\n",
        "while i < 6:\n",
        "  print(i)\n",
        "  i += 1\n",
        "else:\n",
        "  print('l sudah dari 6')"
      ],
      "metadata": {
        "colab": {
          "base_uri": "https://localhost:8080/"
        },
        "id": "udlm9O1MisUz",
        "outputId": "5a46565a-ff86-4777-fed7-569b06c37fbb"
      },
      "execution_count": null,
      "outputs": [
        {
          "output_type": "stream",
          "name": "stdout",
          "text": [
            "1\n",
            "2\n",
            "3\n",
            "4\n",
            "5\n",
            "l sudah dari 6\n"
          ]
        }
      ]
    },
    {
      "cell_type": "code",
      "source": [
        "#Python For Loops\n",
        "#Perulangan For digunakan untuk mengulangi urutan, seperti list dan dict.\n",
        "\n",
        "buah = ['apel', 'pisang', 'mangga']\n",
        "for x in buah:\n",
        "  print(x)"
      ],
      "metadata": {
        "colab": {
          "base_uri": "https://localhost:8080/"
        },
        "id": "8r3TUR8Bi-BJ",
        "outputId": "4f015a82-7cf2-4b47-c044-8569b5929d93"
      },
      "execution_count": null,
      "outputs": [
        {
          "output_type": "stream",
          "name": "stdout",
          "text": [
            "apel\n",
            "pisang\n",
            "mangga\n"
          ]
        }
      ]
    },
    {
      "cell_type": "code",
      "source": [
        "#For Loops Else\n",
        "#Else dalam for loop akan dieksekusi ketika loop selesai:\n",
        "\n",
        "for x in range(0, 10, 1):\n",
        "  print(x)"
      ],
      "metadata": {
        "colab": {
          "base_uri": "https://localhost:8080/"
        },
        "id": "HH0hduYYjIsI",
        "outputId": "0ed28d50-92b7-4078-80ac-357fb237d581"
      },
      "execution_count": null,
      "outputs": [
        {
          "output_type": "stream",
          "name": "stdout",
          "text": [
            "0\n",
            "1\n",
            "2\n",
            "3\n",
            "4\n",
            "5\n",
            "6\n",
            "7\n",
            "8\n",
            "9\n"
          ]
        }
      ]
    },
    {
      "cell_type": "code",
      "source": [
        "\"\"\"Membuat Function\n",
        "Function adalah blok kode yang hanya berjalan ketika dipanggil.\n",
        "Di Function kita meneruskan data, yang dikenal sebagai parameter ke dalam suatu fungsi.\"\"\"\n",
        "\n",
        "def my_function(): \n",
        "  print(\"Hello from a function\")\n",
        "\n",
        "my_function()\n",
        "\n"
      ],
      "metadata": {
        "colab": {
          "base_uri": "https://localhost:8080/"
        },
        "id": "XNL0DSGEjbXR",
        "outputId": "28f40d52-6c5f-4a12-f9d0-be6f75175ec7"
      },
      "execution_count": null,
      "outputs": [
        {
          "output_type": "stream",
          "name": "stdout",
          "text": [
            "Hello from a function\n"
          ]
        }
      ]
    },
    {
      "cell_type": "code",
      "source": [
        "#Arguments\n",
        "\"\"\"Informasi dapat diteruskan ke fungsi sebagai argumen. Argumen ditentukan setelah nama\n",
        "fungsi, di dalam tanda kurung.\"\"\"\n",
        "\n",
        "def perkenalan(nama):\n",
        "  print(\"Hai, nama saya \" + nama)\n",
        "\n",
        "perkenalan(\"sul\")\n",
        "perkenalan(\"fajri\")\n",
        "perkenalan(\"zulham\")"
      ],
      "metadata": {
        "colab": {
          "base_uri": "https://localhost:8080/"
        },
        "id": "iBPtqPv2kBXp",
        "outputId": "2c44c92f-7868-44bf-fc7e-d0ecbec95107"
      },
      "execution_count": null,
      "outputs": [
        {
          "output_type": "stream",
          "name": "stdout",
          "text": [
            "Hai, nama saya sul\n",
            "Hai, nama saya fajri\n",
            "Hai, nama saya zulham\n"
          ]
        }
      ]
    },
    {
      "cell_type": "code",
      "source": [
        "data = ' Dia 10 tapi dia ateis. Dia 10 tapi dia bilang \"halo, dek\". Dia 10 tapi dia beda agama. Dia 10 tapi dia banyak duit. Dia 10 tapi dia lama bales chat. Dia 10 tapi dia ga suka sama kamu. Dia 10 tapi dia suka overthinking. Dia 10 tapi dia cemburuan. Dia 10 tapi dia manja. Dia 10 tapi dia ga dipublish. Dia 10 tapi dia cuma masa lalu. Dia 10 tapi dia kpopers. Dia 10 tapi dia percaya zodiak. Dia 10 tapi dia cringe. Dia 10 tapi dia cuek. Dia 10 tapi dia chindo. Dia 10 tapi dia terlalu baik. Dia 10 tapi dia selalu sibuk. Dia 10 tapi dia pinter. Dia 10 tapi dia selalu nyepelain hal hal kecil. Dia 10 tapi dia perhatian. Dia 10 tapi dia friendly banget. Dia 10 tapi dia pemuda pancasila. Dia 10 tapi dia penakut. Dia 10 tapi dia toxic. Dia 10 tapi dia pesimis. Dia 10 tapi dia pemalas. Dia 10 tapi dia karakter fiksi. Dia 10 tapi dia udah ada yang punya. Dia 10 tapi dia lucuu. Dia 10 tapi dia typingnya alay'\n",
        "data_dipisah = data.split('.')\n",
        "data_dirapikan = []\n",
        "\n",
        "#print(len(data_dipisah))\n",
        "for x in data_dipisah : \n",
        "  data_dirapikan.append(x[17:])\n",
        "\n",
        "#print(data_dirapikan)\n",
        "\n",
        "def tiktok():\n",
        "  nilai = random.randrange(5, 10)\n",
        "  tapi = random.randrange(0, len(data_dipisah) - 1)\n",
        "\n",
        "  print(\"Dia \" + str(nilai) + \" tapi dia \" + data_dirapikan[tapi])\n",
        "\n",
        "  "
      ],
      "metadata": {
        "id": "leHUoMgKkgQu"
      },
      "execution_count": null,
      "outputs": []
    },
    {
      "cell_type": "code",
      "source": [
        "tiktok()\n"
      ],
      "metadata": {
        "colab": {
          "base_uri": "https://localhost:8080/"
        },
        "id": "QJajOU6Kpxuk",
        "outputId": "33b1f5d4-251c-46ee-adf0-c3937b3f381b"
      },
      "execution_count": null,
      "outputs": [
        {
          "output_type": "stream",
          "name": "stdout",
          "text": [
            "Dia 7 tapi dia karakter fiksi\n"
          ]
        }
      ]
    },
    {
      "cell_type": "code",
      "source": [],
      "metadata": {
        "id": "8LexwEb3tOa2"
      },
      "execution_count": null,
      "outputs": []
    }
  ]
}